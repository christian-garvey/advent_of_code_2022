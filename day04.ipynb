{
 "cells": [
  {
   "cell_type": "code",
   "execution_count": 21,
   "metadata": {},
   "outputs": [
    {
     "name": "stdout",
     "output_type": "stream",
     "text": [
      "  original_data\n",
      "0      7-24,8-8\n",
      "1    2-75,37-51\n",
      "2   47-78,20-39\n",
      "3   53-91,34-53\n",
      "4   13-50,14-50\n"
     ]
    }
   ],
   "source": [
    "##############################################\n",
    "# AoC Day 04\n",
    "## P01 answer - 582 is too high\n",
    "## P02 answer - \n",
    "##############################################\n",
    "# Task: \n",
    "# Count the number of overlapping ranges within \n",
    "# the input data set\n",
    "\n",
    "\n",
    "##############################################\n",
    "\n",
    "## Libraries\n",
    "import pandas as pd\n",
    "\n",
    "## Request data\n",
    "# from request_input_data import get_input\n",
    "# data = get_input(4)\n",
    "\n",
    "day = \"04\"\n",
    "file = f\"day{day}_input.txt\"\n",
    "\n",
    "## Read data and strip \"/n\"\n",
    "lines = open(file).readlines()\n",
    "lines_strip = [l.strip() for l in lines]\n",
    "# print(lines_strip)\n",
    "\n",
    "data = pd.DataFrame(lines_strip)\n",
    "data.columns = [\"original_data\"]\n",
    "print(data.head())"
   ]
  },
  {
   "cell_type": "code",
   "execution_count": 3,
   "metadata": {},
   "outputs": [
    {
     "name": "stdout",
     "output_type": "stream",
     "text": [
      "  original_data  pair0  pair1\n",
      "0      7-24,8-8   7-24    8-8\n",
      "1    2-75,37-51   2-75  37-51\n",
      "2   47-78,20-39  47-78  20-39\n",
      "3   53-91,34-53  53-91  34-53\n",
      "4   13-50,14-50  13-50  14-50\n"
     ]
    }
   ],
   "source": [
    "## Split data at \",\"\n",
    "data[[\"pair0\", \"pair1\"]] = data.original_data.str.split(\",\", expand =True)\n",
    "print(data.head())"
   ]
  },
  {
   "cell_type": "code",
   "execution_count": 4,
   "metadata": {},
   "outputs": [
    {
     "name": "stdout",
     "output_type": "stream",
     "text": [
      "  original_data  pair0  pair1 pair0_st pair0_end pair1_st pair1_end\n",
      "0      7-24,8-8   7-24    8-8        7        24        8         8\n",
      "1    2-75,37-51   2-75  37-51        2        75       37        51\n",
      "2   47-78,20-39  47-78  20-39       47        78       20        39\n",
      "3   53-91,34-53  53-91  34-53       53        91       34        53\n",
      "4   13-50,14-50  13-50  14-50       13        50       14        50\n"
     ]
    }
   ],
   "source": [
    "## Split on \"-\" \n",
    "for i in [\"pair0\", \"pair1\"]:\n",
    "    data[[i + \"_st\" ,i + \"_end\"]] = data[i].str.split(\"-\", expand =True)\n",
    "\n",
    "print(data.head())\n"
   ]
  },
  {
   "cell_type": "code",
   "execution_count": 19,
   "metadata": {},
   "outputs": [
    {
     "name": "stdout",
     "output_type": "stream",
     "text": [
      "562 924\n"
     ]
    }
   ],
   "source": [
    "## Do check on Pair 0\n",
    "### If pair0_int[0] <= pair1_int[0] \n",
    "###     AND pair0_int[1] >= pair1_int[1] \n",
    "###    Then fully contained and add to list\n",
    "### If not, then...\n",
    "\n",
    "running_total = 0\n",
    "part_2 = 0\n",
    "\n",
    "for i, r in data[:].iterrows():\n",
    "\n",
    "    ## INCORRECT --> NEEDED TO CHANGE VALS TO INTEGERS\n",
    "    # if (r[\"pair0_st\"] <= r[\"pair1_st\"] and r[\"pair0_end\"] >= r[\"pair1_end\"]):\n",
    "    #     # print(\"wahoo\")\n",
    "    #     running_total += 1\n",
    "\n",
    "    # elif r[\"pair0_st\"] >= r[\"pair1_st\"] and r[\"pair0_end\"] <= r[\"pair1_end\"]:\n",
    "    #     # print(\"oohaw\")\n",
    "    #     running_total += 1\n",
    "\n",
    "    ## CORRECT\n",
    "    ## Using \"issubset\"\n",
    "    pair0_rng = set(range(int(r[\"pair0_st\"]),int(r[\"pair0_end\"])+1))\n",
    "    pair1_rng = set(range(int(r[\"pair1_st\"]),int(r[\"pair1_end\"])+1))\n",
    "\n",
    "    if pair0_rng.issubset(pair1_rng) or pair1_rng.issubset(pair0_rng):\n",
    "        running_total += 1\n",
    "    if pair0_rng.intersection(pair1_rng):\n",
    "        part_2 +=1\n",
    "\n",
    "\n",
    "\n",
    "print(running_total, part_2)\n",
    "\n"
   ]
  },
  {
   "attachments": {},
   "cell_type": "markdown",
   "metadata": {},
   "source": [
    "___\n",
    "~~~\n",
    "Debugging\n"
   ]
  },
  {
   "cell_type": "code",
   "execution_count": 18,
   "metadata": {},
   "outputs": [
    {
     "name": "stdout",
     "output_type": "stream",
     "text": [
      "8\n",
      "8\n",
      "['7-24,8-8', '2-75,37-51', '13-50,14-50', '93-93,20-93', '74-80,48-81', '4-90,4-96', '3-89,4-80', '4-88,6-82']\n",
      "['7-24,8-8', '2-75,37-51', '13-50,14-50', '93-93,20-93', '74-80,48-81', '4-90,4-96', '3-89,4-80', '4-88,6-82']\n",
      "set()\n",
      "<class 'pandas.core.series.Series'>\n"
     ]
    }
   ],
   "source": [
    "## Debugging\n",
    "\n",
    "running_total = 0\n",
    "cjg_list = []\n",
    "reddit_list = []\n",
    "\n",
    "# NEEDED TO CHANGE THE NUMERICAL COLUMNS TO VALUES\n",
    "# data[[\"pair0_st\", \"pair0_end\", \"pair1_st\", \"pair1_end\"]] = data[[\"pair0_st\", \"pair0_end\", \"pair1_st\", \"pair1_end\"]].apply(pd.to_numeric)\n",
    "\n",
    "for i, r in data[:20].iterrows():\n",
    "    if (r[\"pair0_st\"] <= r[\"pair1_st\"] and r[\"pair0_end\"] >= r[\"pair1_end\"]) or (r[\"pair0_st\"] >= r[\"pair1_st\"] and r[\"pair0_end\"] <= r[\"pair1_end\"]):\n",
    "        cjg_list.append(r[0])\n",
    "\n",
    "    \n",
    "    pair0_rng = set(range(int(r[\"pair0_st\"]),int(r[\"pair0_end\"])+1))\n",
    "    pair1_rng = set(range(int(r[\"pair1_st\"]),int(r[\"pair1_end\"])+1))\n",
    "\n",
    "    if pair0_rng.issubset(pair1_rng) or pair1_rng.issubset(pair0_rng):\n",
    "        reddit_list.append(r[0])\n",
    "\n",
    "\n",
    "print(len(cjg_list))\n",
    "print(len(reddit_list))\n",
    "\n",
    "print(cjg_list)\n",
    "print(reddit_list)\n",
    "\n",
    "print(set(cjg_list) - set(reddit_list))\n",
    "\n",
    "print(type(data[\"pair0_st\"]))"
   ]
  },
  {
   "cell_type": "code",
   "execution_count": null,
   "metadata": {},
   "outputs": [],
   "source": [
    "#______________________\n",
    "# working\n",
    "\n",
    "## Split data at \",\"\n",
    "# for i, r in data.iterrows():\n",
    "#     str(r)\n",
    "#     r_split = r.str.split(\",\")\n",
    "#     # print(r_split)\n",
    "\n",
    "# type(r_split)\n",
    "# # print(data.head())\n",
    "\n",
    "\n",
    "## Assumes that pairs are always ascending --> \n",
    "# To negate this, If int[0] > int[1], then swap around"
   ]
  },
  {
   "cell_type": "code",
   "execution_count": 73,
   "metadata": {},
   "outputs": [
    {
     "name": "stdout",
     "output_type": "stream",
     "text": [
      "Part one: 562\n",
      "Part two 924\n"
     ]
    }
   ],
   "source": [
    "## Reddit answer\n",
    "import re \n",
    "\n",
    "with open('day04_input copy.txt', 'r') as f:\n",
    "    elvish_work = f.read().split(\"\\n\")\n",
    "\n",
    "part_one = 0\n",
    "part_two = 0\n",
    "for elf_pair in elvish_work:\n",
    "    l1, l2, r1, r2 = [int(x) for x in re.split('[,-]', elf_pair)]\n",
    "    elf1 = set(range(l1, l2+1))\n",
    "    elf2 = set(range(r1, r2+1))\n",
    "    if (elf1.issubset(elf2) or elf2.issubset(elf1)):\n",
    "        part_one += 1\n",
    "    if (elf1.intersection(elf2)):\n",
    "        part_two +=1\n",
    "\n",
    "print(\"Part one:\", part_one)\n",
    "print(\"Part two\", part_two)"
   ]
  }
 ],
 "metadata": {
  "kernelspec": {
   "display_name": "base",
   "language": "python",
   "name": "python3"
  },
  "language_info": {
   "codemirror_mode": {
    "name": "ipython",
    "version": 3
   },
   "file_extension": ".py",
   "mimetype": "text/x-python",
   "name": "python",
   "nbconvert_exporter": "python",
   "pygments_lexer": "ipython3",
   "version": "3.9.7"
  },
  "orig_nbformat": 4,
  "vscode": {
   "interpreter": {
    "hash": "ad2bdc8ecc057115af97d19610ffacc2b4e99fae6737bb82f5d7fb13d2f2c186"
   }
  }
 },
 "nbformat": 4,
 "nbformat_minor": 2
}
