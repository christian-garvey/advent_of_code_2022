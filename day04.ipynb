{
 "cells": [
  {
   "cell_type": "code",
   "execution_count": 47,
   "metadata": {},
   "outputs": [
    {
     "name": "stdout",
     "output_type": "stream",
     "text": [
      "  original_data\n",
      "0       2-4,6-8\n",
      "1       2-3,4-5\n",
      "2       5-7,7-9\n",
      "3       2-8,3-7\n",
      "4       6-6,4-6\n"
     ]
    }
   ],
   "source": [
    "##############################################\n",
    "# AoC Day 04\n",
    "## P01 answer - 582 is too high\n",
    "## P02 answer - \n",
    "##############################################\n",
    "# Task: \n",
    "# Count the number of overlapping ranges within \n",
    "# the input data set\n",
    "\n",
    "\n",
    "##############################################\n",
    "\n",
    "## Libraries\n",
    "import pandas as pd\n",
    "\n",
    "## Request data\n",
    "# from request_input_data import get_input\n",
    "# data = get_input(4)\n",
    "\n",
    "day = \"04\"\n",
    "file = f\"day{day}_input.txt\"\n",
    "\n",
    "## Read data and strip \"/n\"\n",
    "lines = open(file).readlines()\n",
    "lines_strip = [l.strip() for l in lines]\n",
    "# print(lines_strip)\n",
    "\n",
    "data = pd.DataFrame(lines_strip)\n",
    "data.columns = [\"original_data\"]\n",
    "print(data.head())"
   ]
  },
  {
   "cell_type": "code",
   "execution_count": 48,
   "metadata": {},
   "outputs": [
    {
     "name": "stdout",
     "output_type": "stream",
     "text": [
      "  original_data pair0 pair1\n",
      "0       2-4,6-8   2-4   6-8\n",
      "1       2-3,4-5   2-3   4-5\n",
      "2       5-7,7-9   5-7   7-9\n",
      "3       2-8,3-7   2-8   3-7\n",
      "4       6-6,4-6   6-6   4-6\n"
     ]
    }
   ],
   "source": [
    "## Split data at \",\"\n",
    "data[[\"pair0\", \"pair1\"]] = data.original_data.str.split(\",\", expand =True)\n",
    "print(data.head())"
   ]
  },
  {
   "cell_type": "code",
   "execution_count": 49,
   "metadata": {},
   "outputs": [
    {
     "name": "stdout",
     "output_type": "stream",
     "text": [
      "  original_data pair0 pair1 pair0_st pair0_end pair1_st pair1_end\n",
      "0       2-4,6-8   2-4   6-8        2         4        6         8\n",
      "1       2-3,4-5   2-3   4-5        2         3        4         5\n",
      "2       5-7,7-9   5-7   7-9        5         7        7         9\n",
      "3       2-8,3-7   2-8   3-7        2         8        3         7\n",
      "4       6-6,4-6   6-6   4-6        6         6        4         6\n"
     ]
    }
   ],
   "source": [
    "## Split on \"-\" \n",
    "for i in [\"pair0\", \"pair1\"]:\n",
    "    data[[i + \"_st\" ,i + \"_end\"]] = data[i].str.split(\"-\", expand =True)\n",
    "\n",
    "print(data.head())\n"
   ]
  },
  {
   "cell_type": "code",
   "execution_count": 50,
   "metadata": {},
   "outputs": [
    {
     "name": "stdout",
     "output_type": "stream",
     "text": [
      "wahoo\n",
      "oohaw\n",
      "2\n"
     ]
    }
   ],
   "source": [
    "## Do check on Pair 0\n",
    "### If pair0_int[0] <= pair1_int[0] \n",
    "###     AND pair0_int[1] >= pair1_int[1] \n",
    "###    Then fully contained and add to list\n",
    "### If not, then...\n",
    "\n",
    "running_total = 0\n",
    "for i, r in data.iloc[:].iterrows():\n",
    "\n",
    "    if r[\"pair0_st\"] <= r[\"pair1_st\"] and r[\"pair0_end\"] >= r[\"pair1_end\"]:\n",
    "        print(\"wahoo\")\n",
    "        running_total += 1\n",
    "\n",
    "    elif r[\"pair0_st\"] >= r[\"pair1_st\"] and r[\"pair0_end\"] <= r[\"pair1_end\"]:\n",
    "        print(\"oohaw\")\n",
    "        running_total += 1\n",
    "\n",
    "print(running_total)\n",
    "\n"
   ]
  },
  {
   "cell_type": "code",
   "execution_count": null,
   "metadata": {},
   "outputs": [],
   "source": [
    "#______________________\n",
    "# working\n",
    "\n",
    "## Split data at \",\"\n",
    "# for i, r in data.iterrows():\n",
    "#     str(r)\n",
    "#     r_split = r.str.split(\",\")\n",
    "#     # print(r_split)\n",
    "\n",
    "# type(r_split)\n",
    "# # print(data.head())\n",
    "\n",
    "\n",
    "## Assumes that pairs are always ascending --> \n",
    "# To negate this, If int[0] > int[1], then swap around"
   ]
  }
 ],
 "metadata": {
  "kernelspec": {
   "display_name": "base",
   "language": "python",
   "name": "python3"
  },
  "language_info": {
   "codemirror_mode": {
    "name": "ipython",
    "version": 3
   },
   "file_extension": ".py",
   "mimetype": "text/x-python",
   "name": "python",
   "nbconvert_exporter": "python",
   "pygments_lexer": "ipython3",
   "version": "3.9.7"
  },
  "orig_nbformat": 4,
  "vscode": {
   "interpreter": {
    "hash": "ad2bdc8ecc057115af97d19610ffacc2b4e99fae6737bb82f5d7fb13d2f2c186"
   }
  }
 },
 "nbformat": 4,
 "nbformat_minor": 2
}
